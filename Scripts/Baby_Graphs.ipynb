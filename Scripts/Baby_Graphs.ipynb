{
 "cells": [
  {
   "cell_type": "code",
   "execution_count": 1,
   "metadata": {},
   "outputs": [],
   "source": [
    "import pandas as pd\n",
    "import operator"
   ]
  },
  {
   "cell_type": "code",
   "execution_count": 2,
   "metadata": {},
   "outputs": [],
   "source": [
    "#pandas to read csv file\n",
    "baby_data = pd.read_json(\"baby.json\", lines =True)"
   ]
  },
  {
   "cell_type": "code",
   "execution_count": 3,
   "metadata": {},
   "outputs": [],
   "source": [
    "del baby_data['asin']\n",
    "del baby_data['reviewerID']\n",
    "del baby_data['reviewerName']\n",
    "del baby_data['reviewTime']\n",
    "del baby_data['unixReviewTime']\n",
    "del baby_data['helpful']\n",
    "del baby_data['summary']"
   ]
  },
  {
   "cell_type": "code",
   "execution_count": 4,
   "metadata": {},
   "outputs": [],
   "source": [
    "baby_one = baby_data.loc[baby_data['overall'] == 1]\n",
    "baby_two = baby_data.loc[baby_data['overall'] == 2]\n",
    "baby_three = baby_data.loc[baby_data['overall'] == 3]\n",
    "baby_four = baby_data.loc[baby_data['overall'] == 4]\n",
    "baby_five = baby_data.loc[baby_data['overall'] == 5]"
   ]
  },
  {
   "cell_type": "code",
   "execution_count": 5,
   "metadata": {},
   "outputs": [],
   "source": [
    "commonWords = ['the', 'be', 'to', 'of', 'and', 'a', 'in', 'that', 'have',\n",
    "              'i', 'it', 'for', 'not', 'on', 'with', 'he', 'as', 'you',\n",
    "              'do', 'at', 'this', 'but', 'his', 'by', 'from', 'they', 'we',\n",
    "              'say', 'her', 'she', 'or', 'will', 'an', 'my', 'one', 'all',\n",
    "              'would', 'there', 'their', 'what', 'so', 'up', 'out', 'if',\n",
    "              'about', 'who', 'get', 'which', 'go', 'when', 'me', 'make',\n",
    "              'can', 'like', 'time', 'no', 'just', 'him', 'know', 'take',\n",
    "              'person', 'into', 'year', 'your', 'good', 'some', 'could',\n",
    "              'them', 'see', 'other', 'than', 'then', 'now', 'look', 'only',\n",
    "              'come', 'its', \"it's\", 'over', 'think', 'also', 'back', 'after',\n",
    "              'use', 'two', 'how', 'our', 'work', 'first', 'well', 'way', 'even',\n",
    "              'new', 'want', 'because', 'any', 'these', 'give', 'day', 'most', 'us',\n",
    "               'who'\n",
    "    ]"
   ]
  },
  {
   "cell_type": "code",
   "execution_count": 6,
   "metadata": {},
   "outputs": [],
   "source": [
    "#### deletes the symbols out of the words for instance such as . and '\n",
    "def del_sym(txt):\n",
    "    del_symbols = ['.', \"'\", \"!\", \"@\", \"#\", \"$\", \"%\", \"^\", \"&\", \"*\", \"(\", \")\", \"{\", \"}\",\n",
    "                       \"1\", \"2\", \"3\", \"4\", \"5\", \"6\", \"7\", \"8\", \"9\", \":\", \";\", \"<\", \">\", \"?\",\n",
    "                       \",\", \"[\", \"]\", \"-\", \"_\", \"+\", \"=\"\n",
    "                  ]\n",
    "     \n",
    "    i = 0\n",
    "    while i < len(txt):\n",
    "        if txt[i] in del_symbols:\n",
    "            txt = txt[0:i] + txt[i+1:]\n",
    "            i-=1\n",
    "        i+=1\n",
    "    return txt\n",
    "    \n",
    "\n",
    "#uncomment below to test function\n",
    "#word = \"hi''.a\"\n",
    "#words = \"he344o&*o\"\n",
    "#del_sym(word)  \n",
    "#del_sym(words)   "
   ]
  },
  {
   "cell_type": "code",
   "execution_count": 7,
   "metadata": {},
   "outputs": [],
   "source": [
    "def addText(dataTable):\n",
    "    sentence = \"\"\n",
    "    for i in range(dataTable.shape[0]):\n",
    "        word = str(dataTable.iloc[i][\"reviewText\"])\n",
    "        sentence += \" \" + word\n",
    "    return sentence\n",
    "\n",
    "def deleteCommon(str):\n",
    "    sentence = \"\"\n",
    "    conden = str.split(\" \")\n",
    "    for i in range(len(conden)):\n",
    "        if conden[i].lower() not in commonWords:\n",
    "            sentence += \" \" + conden[i]\n",
    "    return sentence\n",
    "\n",
    "def rewriteText(dataTable):\n",
    "    allData = deleteCommon(addText(dataTable))\n",
    "    allDataSplit = allData.split(\" \")\n",
    "    d = {}\n",
    "    for i in range(len(allDataSplit)):\n",
    "        if allDataSplit[i] not in d:\n",
    "            d[allDataSplit[i]] = 1\n",
    "        else:\n",
    "            d[allDataSplit[i]] += 1\n",
    "            \n",
    "    sorted_d = sorted(d.items(), key=operator.itemgetter(1), reverse=True)\n",
    "    return sorted_d\n",
    "\n",
    "\n",
    "one_text = rewriteText(baby_one)\n",
    "two_text = rewriteText(baby_two)\n",
    "three_text = rewriteText(baby_three)\n",
    "four_text = rewriteText(baby_four)\n",
    "five_text = rewriteText(baby_five)"
   ]
  },
  {
   "cell_type": "code",
   "execution_count": 8,
   "metadata": {},
   "outputs": [],
   "source": [
    "#another solution to solving getting rid of common/nonsignificant \n",
    "#words that do not have a positive or negative connotation\n",
    "import matplotlib.pyplot as plt\n",
    "\n",
    "def full_words(txt):\n",
    "    array = []\n",
    "    for i in txt:\n",
    "        if len(i) == 2:\n",
    "            first = del_sym(str(i[0]))\n",
    "            second = i[1]\n",
    "            new_item = (first, second)\n",
    "            array.append(new_item)\n",
    "    return array\n",
    "\n",
    "test_one = full_words(one_text)\n",
    "test_two = full_words(two_text)\n",
    "test_three = full_words(three_text)\n",
    "test_four = full_words(four_text)\n",
    "test_five = full_words(five_text)"
   ]
  },
  {
   "cell_type": "code",
   "execution_count": 9,
   "metadata": {},
   "outputs": [
    {
     "name": "stdout",
     "output_type": "stream",
     "text": [
      "{0: 22120, 2: 22049, 3: 54623, 4: 89755, 6: 63204, 7: 49594, 5: 76309, 9: 15757, 8: 26220, 10: 9081, 12: 2743, 1: 2052, 11: 4597, 13: 1610, 14: 519, 15: 348, 17: 116, 18: 83, 19: 45, 16: 137, 20: 28, 25: 9, 22: 11, 21: 18, 122: 1, 24: 12, 23: 5, 75: 1, 64: 1, 90: 1, 103: 1, 96: 2, 27: 2, 26: 1, 36: 1, 32: 1, 68: 1, 30: 1, 31: 1, 93: 1, 40: 1, 29: 1, 81: 1, 57: 1, 60: 1, 106: 1, 80: 1, 52: 1, 114: 1, 77: 1, 110: 1}\n"
     ]
    }
   ],
   "source": [
    "########The purpose of this function and the above function is basically to create a array of tuples from the original\n",
    "########array of tuples but this new array has now cleaned up all the symbols for each word\n",
    "########The below function creates a dictionary of the form {word length: # words with that word length}\n",
    "########Example: {5: 100} means 100 words have 5 letters\n",
    "\n",
    "def create_count(array):\n",
    "    d = {}\n",
    "    for i in array:\n",
    "        if len(i[0]) in d:\n",
    "            d[len(i[0])] += i[1]\n",
    "        else:\n",
    "            d[len(i[0])] = i[1]\n",
    "    return d\n",
    "\n",
    "\n",
    "##Below are dictionaries where the value is length of word and key is the number of words in the review text with that\n",
    "##letter count\n",
    "t_one = create_count(test_one)\n",
    "t_two = create_count(test_two)\n",
    "t_three = create_count(test_three)\n",
    "t_four = create_count(test_four)\n",
    "t_five = create_count(test_five)\n",
    "print(t_one)"
   ]
  },
  {
   "cell_type": "code",
   "execution_count": 10,
   "metadata": {},
   "outputs": [],
   "source": [
    "##this function, from the t_one... etc variables, grabs only the words of length x(any length) \n",
    "##that occur more than y times \n",
    "def filt(dic, y):\n",
    "    d = {}\n",
    "    for x in dic:\n",
    "         if dic[x] > y:\n",
    "                d[x] = dic[x]\n",
    "    return d\n"
   ]
  },
  {
   "cell_type": "code",
   "execution_count": 11,
   "metadata": {},
   "outputs": [],
   "source": [
    "import matplotlib.pyplot as plt"
   ]
  },
  {
   "cell_type": "code",
   "execution_count": 12,
   "metadata": {},
   "outputs": [],
   "source": [
    "#used data from create_count function\n",
    "ones = filt(t_one, 100000)\n",
    "twos = filt(t_two, 10000)\n",
    "threes = filt(t_three, 100000)\n",
    "fours = filt(t_four, 100000)\n",
    "fives = filt(t_five, 100000)"
   ]
  },
  {
   "cell_type": "code",
   "execution_count": 18,
   "metadata": {},
   "outputs": [
    {
     "name": "stdout",
     "output_type": "stream",
     "text": [
      "No one star reviews for this data set\n"
     ]
    }
   ],
   "source": [
    "print(\"No one star reviews for this data set\")"
   ]
  },
  {
   "cell_type": "code",
   "execution_count": 14,
   "metadata": {},
   "outputs": [
    {
     "data": {
      "image/png": "[encoded data removed]",
      "text/plain": [
       "<Figure size 432x288 with 1 Axes>"
      ]
     },
     "metadata": {},
     "output_type": "display_data"
    }
   ],
   "source": [
    "plt.bar(range(len(twos)), list(twos.values()), align='center')\n",
    "plt.xticks(range(len(twos)), list(twos.keys()))\n",
    "plt.ylabel('Num of Words')\n",
    "plt.xlabel('Word Length')\n",
    "plt.title('Graph for Subset of One Star')\n",
    "plt.show()"
   ]
  },
  {
   "cell_type": "code",
   "execution_count": 15,
   "metadata": {},
   "outputs": [
    {
     "data": {
      "image/png": "[encoded data removed]",
      "text/plain": [
       "<Figure size 432x288 with 1 Axes>"
      ]
     },
     "metadata": {},
     "output_type": "display_data"
    }
   ],
   "source": [
    "plt.bar(range(len(threes)), list(threes.values()), align='center')\n",
    "plt.xticks(range(len(threes)), list(threes.keys()))\n",
    "plt.ylabel('Num of Words')\n",
    "plt.xlabel('Word Length')\n",
    "plt.title('Graph for Subset of One Star')\n",
    "plt.show()"
   ]
  },
  {
   "cell_type": "code",
   "execution_count": 16,
   "metadata": {},
   "outputs": [
    {
     "data": {
      "image/png": "[encoded data removed]",
      "text/plain": [
       "<Figure size 432x288 with 1 Axes>"
      ]
     },
     "metadata": {},
     "output_type": "display_data"
    }
   ],
   "source": [
    "plt.bar(range(len(fours)), list(fours.values()), align='center')\n",
    "plt.xticks(range(len(fours)), list(fours.keys()))\n",
    "plt.ylabel('Num of Words')\n",
    "plt.xlabel('Word Length')\n",
    "plt.title('Graph for Subset of One Star')\n",
    "plt.show()"
   ]
  },
  {
   "cell_type": "code",
   "execution_count": 17,
   "metadata": {},
   "outputs": [
    {
     "data": {
      "image/png": "[encoded data removed]",
      "text/plain": [
       "<Figure size 432x288 with 1 Axes>"
      ]
     },
     "metadata": {},
     "output_type": "display_data"
    }
   ],
   "source": [
    "plt.bar(range(len(fives)), list(fives.values()), align='center')\n",
    "plt.xticks(range(len(fives)), list(fives.keys()))\n",
    "plt.ylabel('Num of Words')\n",
    "plt.xlabel('Word Length')\n",
    "plt.title('Graph for Subset of One Star')\n",
    "plt.show()"
   ]
  }
 ],
 "metadata": {
  "kernelspec": {
   "display_name": "Python 3",
   "language": "python",
   "name": "python3"
  },
  "language_info": {
   "codemirror_mode": {
    "name": "ipython",
    "version": 3
   },
   "file_extension": ".py",
   "mimetype": "text/x-python",
   "name": "python",
   "nbconvert_exporter": "python",
   "pygments_lexer": "ipython3",
   "version": "3.6.5"
  }
 },
 "nbformat": 4,
 "nbformat_minor": 2
}
